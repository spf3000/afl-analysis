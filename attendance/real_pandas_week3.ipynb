{
 "cells": [
  {
   "cell_type": "code",
   "execution_count": null,
   "id": "0c915350",
   "metadata": {},
   "outputs": [],
   "source": [
    "import pandas as pd\n",
    "\n",
    "df = pd.read_csv(\"../data/parsed_real_afl_attendance_2024.csv\")\n",
    "df.head()\n",
    "\n",
    "df = df.dropna(subset=[\"Crowd\", \"Home v Away Teams\"])\n",
    "teams_split = df[\"Home v Away Teams\"].str.split(\" v \", expand=True)\n",
    "df[\"home_team\"] = teams_split[0]\n",
    "df[\"away_team\"] = teams_split[1]\n",
    "\n",
    "df[\"Crowd\"] = df[\"Crowd\"].astype(int)\n",
    "df"
   ]
  },
  {
   "cell_type": "code",
   "execution_count": null,
   "id": "6e1185df",
   "metadata": {},
   "outputs": [],
   "source": [
    "df.groupby(\"home_team\")[\"Crowd\"].mean().sort_values(ascending=False).head(20)"
   ]
  },
  {
   "cell_type": "code",
   "execution_count": null,
   "id": "93734ce4",
   "metadata": {},
   "outputs": [],
   "source": [
    "import matplotlib.pyplot as plt\n",
    "\n",
    "top_home = df.groupby(\"home_team\")[\"Crowd\"].mean().sort_values(ascending=False).head(18)\n",
    "\n",
    "top_home.plot(kind=\"barh\", figsize=(10, 6), title=\"AFL Home Teams by Average Crowd (2024)\")\n",
    "plt.xlabel(\"Average Crowd\")\n",
    "plt.ylabel(\"Home Team\")\n",
    "plt.gca().invert_yaxis()  # So biggest is on top\n",
    "plt.tight_layout()\n",
    "plt.show()\n"
   ]
  },
  {
   "cell_type": "code",
   "execution_count": null,
   "id": "2a802682",
   "metadata": {},
   "outputs": [],
   "source": [
    "venue_summary = df.groupby(\"Venue\")[\"Crowd\"].agg([\"count\", \"mean\", \"sum\"]).sort_values(\"mean\", ascending=False)\n",
    "venue_summary.rename(columns={\"count\": \"Games\", \"mean\": \"Average Crowd\", \"sum\": \"Total Crowd\"}, inplace=True)\n",
    "venue_summary.head(100)\n"
   ]
  },
  {
   "cell_type": "code",
   "execution_count": null,
   "id": "c563c6a0",
   "metadata": {},
   "outputs": [],
   "source": [
    "# Some entries are empty, so we'll use errors='coerce'\n",
    "df[\"parsed_date\"] = pd.to_datetime(\"2024 \" + df[\"Date\"], errors=\"coerce\", format=\"%Y %a %d %b %I:%M%p\")\n",
    "\n",
    "# Drop games after September 1st (i.e., finals)\n",
    "df_regular = df[df[\"parsed_date\"] < \"2024-09-01\"]\n",
    "%store df_regular"
   ]
  },
  {
   "cell_type": "code",
   "execution_count": null,
   "id": "78e0843d",
   "metadata": {},
   "outputs": [],
   "source": [
    "\n",
    "# Filter only games at the MCG\n",
    "mcg_df = df_regular[df_regular[\"Venue\"] == \"MCG\"]\n",
    "\n",
    "mcg_home_summary = mcg_df.groupby(\"home_team\")[\"Crowd\"].mean().sort_values(ascending=False)\n",
    "mcg_home_summary"
   ]
  },
  {
   "cell_type": "code",
   "execution_count": null,
   "id": "9a955017",
   "metadata": {},
   "outputs": [],
   "source": [
    "mcg_home_summary.plot(kind=\"barh\", figsize=(10, 6), title=\"MCG Home Teams by Average Crowd (2024)\")\n",
    "plt.xlabel(\"Average Crowd\")\n",
    "plt.ylabel(\"Home Team\")\n",
    "plt.gca().invert_yaxis()  # So biggest is on top\n",
    "plt.tight_layout()\n",
    "plt.show()"
   ]
  },
  {
   "cell_type": "code",
   "execution_count": null,
   "id": "6acb0019",
   "metadata": {},
   "outputs": [],
   "source": [
    "# Clean up 'Round' in case it's a float or string\n",
    "df[\"Round\"] = df[\"Round\"].astype(int)\n",
    "\n",
    "round_summary = df.groupby(\"Round\")[\"Crowd\"].mean()\n",
    "round_summary.plot(marker='o', figsize=(10, 5), title=\"Average AFL Crowd by Round (2024)\")\n",
    "plt.ylabel(\"Average Crowd\")\n",
    "plt.xlabel(\"Round\")\n",
    "plt.grid(True)\n",
    "plt.tight_layout()\n",
    "plt.show()\n"
   ]
  },
  {
   "cell_type": "code",
   "execution_count": null,
   "id": "e1e89769",
   "metadata": {},
   "outputs": [],
   "source": [
    "# Group by team and round\n",
    "home_round_attendance = df_regular.groupby([\"home_team\", \"Round\"])[\"Crowd\"].mean().reset_index()\n",
    "attendance_matrix = home_round_attendance.pivot(index=\"Round\", columns=\"home_team\", values=\"Crowd\")\n"
   ]
  },
  {
   "cell_type": "code",
   "execution_count": null,
   "id": "2f7be286",
   "metadata": {},
   "outputs": [],
   "source": [
    "# Similar matrix for away games\n",
    "away_round_attendance = df_regular.groupby([\"away_team\", \"Round\"])[\"Crowd\"].mean().reset_index()\n",
    "away_matrix = away_round_attendance.pivot(index=\"Round\", columns=\"away_team\", values=\"Crowd\")\n"
   ]
  },
  {
   "cell_type": "code",
   "execution_count": null,
   "id": "3f549a2f",
   "metadata": {},
   "outputs": [],
   "source": [
    "for team in attendance_matrix.columns:\n",
    "    home_series = attendance_matrix[team]\n",
    "    away_series = away_matrix[team]\n",
    "\n",
    "    plt.figure(figsize=(8, 4))\n",
    "\n",
    "    # Plot home crowd trend line (interpolated)\n",
    "    plt.plot(\n",
    "        home_series.index,\n",
    "        home_series.interpolate(method=\"linear\"),\n",
    "        color=\"steelblue\",\n",
    "        label=\"Home (Interpolated)\"\n",
    "    )\n",
    "\n",
    "    # Real home game markers\n",
    "    plt.scatter(\n",
    "        home_series.index,\n",
    "        home_series,\n",
    "        color=\"darkblue\",\n",
    "        s=50,\n",
    "        zorder=5,\n",
    "        label=\"Home Game\"\n",
    "    )\n",
    "\n",
    "    # Away game markers (dots only, no line)\n",
    "    plt.scatter(\n",
    "        away_series.index,\n",
    "        away_series,\n",
    "        color=\"orange\",\n",
    "        s=50,\n",
    "        zorder=4,\n",
    "        marker=\"x\",\n",
    "        label=\"Away Game\"\n",
    "    )\n",
    "\n",
    "    plt.title(f\"{team} – Crowd Trend (Home vs Away)\")\n",
    "    plt.xlabel(\"Round\")\n",
    "    plt.ylabel(\"Crowd\")\n",
    "    plt.ylim(0, max(attendance_matrix.max().max(), away_matrix.max().max()) * 1.1)\n",
    "    plt.legend()\n",
    "    plt.grid(True)\n",
    "    plt.tight_layout()\n",
    "    plt.show()\n"
   ]
  },
  {
   "cell_type": "code",
   "execution_count": null,
   "id": "9ff06e09",
   "metadata": {},
   "outputs": [],
   "source": [
    "attendance_matrix.head(10)"
   ]
  },
  {
   "cell_type": "code",
   "execution_count": null,
   "id": "9a0c25d2",
   "metadata": {},
   "outputs": [],
   "source": [
    "capacity_df = pd.read_csv(\"venue_capacity.csv\")\n",
    "capacity_df.head(20)"
   ]
  },
  {
   "cell_type": "code",
   "execution_count": null,
   "id": "290dbf5c",
   "metadata": {},
   "outputs": [],
   "source": [
    "team_venue_avg = df_regular.groupby([\"home_team\", \"Venue\"])[\"Crowd\"].mean().reset_index()\n"
   ]
  },
  {
   "cell_type": "code",
   "execution_count": null,
   "id": "b2638b0f",
   "metadata": {},
   "outputs": [],
   "source": [
    "venue_only_merged = pd.merge(venue_summary, capacity_df, on=\"Venue\", how=\"left\")\n",
    "venue_only_merged.rename(columns={\"Average Crowd\": \"avg_crowd\"}, inplace=True)\n",
    "venue_only_merged[\"fill_pct\"] = venue_only_merged[\"avg_crowd\"] / venue_only_merged[\"Capacity\"]\n",
    "venue_fill_summary = venue_only_merged.groupby(\"Venue\")[\"fill_pct\"].mean().sort_values(ascending=False)\n",
    "venue_fill_summary = venue_fill_summary.round(3)  # Format as 0.### (e.g. 0.86 = 86% full)"
   ]
  },
  {
   "cell_type": "code",
   "execution_count": null,
   "id": "3751c97e",
   "metadata": {},
   "outputs": [],
   "source": [
    "# Merge crowd data with venue capacity\n",
    "merged = pd.merge(team_venue_avg, capacity_df, on=\"Venue\", how=\"left\")\n",
    "merged.rename(columns={\"Crowd\": \"avg_crowd\"}, inplace=True)\n",
    "merged[\"fill_pct\"] = merged[\"avg_crowd\"] / merged[\"Capacity\"]\n",
    "fill_summary = merged.groupby(\"home_team\")[\"fill_pct\"].mean().sort_values(ascending=False)\n",
    "fill_summary = fill_summary.round(3)  # Format as 0.### (e.g. 0.86 = 86% full)\n"
   ]
  },
  {
   "cell_type": "code",
   "execution_count": null,
   "id": "3617eb78",
   "metadata": {},
   "outputs": [],
   "source": [
    "fill_summary.plot(kind=\"barh\", figsize=(10, 6), title=\"Average Stadium Fill % by Team\")\n",
    "plt.xlabel(\"Average Fill Rate\")\n",
    "plt.xlim(0, 1.05)\n",
    "plt.grid(True)\n",
    "plt.tight_layout()\n",
    "plt.show()\n"
   ]
  },
  {
   "cell_type": "code",
   "execution_count": null,
   "id": "cfaebfa5",
   "metadata": {},
   "outputs": [],
   "source": [
    "venue_fill_summary.plot(kind=\"barh\", figsize=(10, 6), title=\"Average Stadium Fill % by Team\")\n",
    "plt.xlabel(\"Average Fill Rate\")\n",
    "plt.xlim(0, 1.05)\n",
    "plt.grid(True)\n",
    "plt.tight_layout()\n",
    "plt.show()\n"
   ]
  }
 ],
 "metadata": {
  "kernelspec": {
   "display_name": ".venv",
   "language": "python",
   "name": "python3"
  },
  "language_info": {
   "codemirror_mode": {
    "name": "ipython",
    "version": 3
   },
   "file_extension": ".py",
   "mimetype": "text/x-python",
   "name": "python",
   "nbconvert_exporter": "python",
   "pygments_lexer": "ipython3",
   "version": "3.13.5"
  }
 },
 "nbformat": 4,
 "nbformat_minor": 5
}
