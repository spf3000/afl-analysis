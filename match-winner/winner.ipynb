{
 "cells": [
  {
   "cell_type": "code",
   "execution_count": null,
   "id": "5f17bbf6",
   "metadata": {},
   "outputs": [],
   "source": [
    "# Create binary label: 1 if home team won, else 0\n",
    "def did_home_win(score):\n",
    "    try:\n",
    "        home_score, away_score = map(int, score.split(\"-\"))\n",
    "        return int(home_score > away_score)\n",
    "    except:\n",
    "        return None  # For BYEs or missing data\n",
    "%store -r df_regular\n",
    "df_regular[\"home_win\"] = df_regular[\"Result\"].apply(did_home_win)\n",
    "df_model = df_regular.dropna(subset=[\"home_win\"])\n"
   ]
  },
  {
   "cell_type": "code",
   "execution_count": null,
   "id": "3abd2603",
   "metadata": {},
   "outputs": [],
   "source": [
    "\n",
    "y = df_model[\"home_win\"]"
   ]
  },
  {
   "cell_type": "code",
   "execution_count": null,
   "id": "6ac27c94",
   "metadata": {},
   "outputs": [],
   "source": [
    "X = df_model[[\"home_team\", \"away_team\", \"Venue\", \"Crowd\"]]"
   ]
  },
  {
   "cell_type": "code",
   "execution_count": null,
   "id": "0529cc16",
   "metadata": {},
   "outputs": [],
   "source": [
    "from sklearn.preprocessing import OneHotEncoder\n",
    "from sklearn.compose import ColumnTransformer\n",
    "from sklearn.pipeline import make_pipeline\n",
    "from sklearn.ensemble import RandomForestClassifier\n",
    "from sklearn.model_selection import train_test_split\n",
    "from sklearn.metrics import accuracy_score\n",
    "\n",
    "# Split\n",
    "X_train, X_test, y_train, y_test = train_test_split(X, y, test_size=0.2, random_state=42)\n",
    "\n",
    "# Define column transformer\n",
    "categorical_cols = [\"home_team\", \"away_team\", \"Venue\"]\n",
    "preprocessor = ColumnTransformer([\n",
    "    (\"cat\", OneHotEncoder(handle_unknown='ignore'), categorical_cols)\n",
    "], remainder=\"passthrough\")\n"
   ]
  },
  {
   "cell_type": "code",
   "execution_count": null,
   "id": "4b30b428",
   "metadata": {},
   "outputs": [],
   "source": [
    "# Pipeline with Random Forest\n",
    "model = make_pipeline(preprocessor, RandomForestClassifier(random_state=42))\n",
    "model.fit(X_train, y_train)"
   ]
  },
  {
   "cell_type": "code",
   "execution_count": null,
   "id": "d1a83116",
   "metadata": {},
   "outputs": [],
   "source": [
    "y_pred = model.predict(X_test)\n",
    "acc = accuracy_score(y_test, y_pred)\n",
    "print(f\"Accuracy: {acc:.2f}\")\n"
   ]
  },
  {
   "cell_type": "code",
   "execution_count": null,
   "id": "deb7ec30",
   "metadata": {},
   "outputs": [],
   "source": [
    "import pandas as pd\n",
    "# Display first 10 predictions\n",
    "pd.DataFrame({\"Actual\": y_test, \"Predicted\": y_pred}).head(10)\n"
   ]
  },
  {
   "cell_type": "code",
   "execution_count": null,
   "id": "bf039ea8",
   "metadata": {},
   "outputs": [],
   "source": [
    "# X_test is a DataFrame of features (before encoding)\n",
    "# y_test is the correct answer (1 or 0 for home win)\n",
    "\n",
    "# First, make a copy so we can add predictions\n",
    "test_results = X_test.copy()\n",
    "test_results[\"actual\"] = y_test\n",
    "test_results[\"predicted\"] = model.predict(X_test)\n"
   ]
  },
  {
   "cell_type": "code",
   "execution_count": null,
   "id": "44f5c8b2",
   "metadata": {},
   "outputs": [],
   "source": [
    "# Just the key columns for readability\n",
    "print(test_results[[\"home_team\", \"away_team\", \"Crowd\", \"actual\", \"predicted\"]].head(10))\n"
   ]
  },
  {
   "cell_type": "code",
   "execution_count": null,
   "id": "72ef90cc",
   "metadata": {},
   "outputs": [],
   "source": [
    "# Get feature names after one-hot encoding\n",
    "encoded_feature_names = model.named_steps[\"columntransformer\"].get_feature_names_out()\n"
   ]
  },
  {
   "cell_type": "code",
   "execution_count": null,
   "id": "a52c998c",
   "metadata": {},
   "outputs": [],
   "source": [
    "import pandas as pd\n",
    "\n",
    "# Pair names with importance values\n",
    "feature_importance = pd.DataFrame({\n",
    "    \"feature\": encoded_feature_names,\n",
    "    \"importance\": rf_model.feature_importances_\n",
    "})\n",
    "\n",
    "# Sort from most to least important\n",
    "feature_importance = feature_importance.sort_values(\"importance\", ascending=False)\n",
    "feature_importance.head(10)\n"
   ]
  },
  {
   "cell_type": "code",
   "execution_count": null,
   "id": "e915f642",
   "metadata": {},
   "outputs": [],
   "source": [
    "ladder_df = pd.read_csv(\"../data/ladder_2024.csv\")\n",
    "\n",
    "# Rename to clarify when merging\n",
    "ladder_df = ladder_df.rename(columns={\n",
    "    \"Position\": \"ladder_position\",\n",
    "    \"Premiership_Points\": \"premiership_points\",\n",
    "    \"Percentage\": \"percentage\"\n",
    "})\n"
   ]
  },
  {
   "cell_type": "code",
   "execution_count": null,
   "id": "06b2ef42",
   "metadata": {},
   "outputs": [],
   "source": [
    "ladder_df.head(10)"
   ]
  },
  {
   "cell_type": "code",
   "execution_count": null,
   "id": "c73e63e8",
   "metadata": {},
   "outputs": [],
   "source": [
    "df_model = pd.merge(\n",
    "    df_model,\n",
    "    ladder_df.rename(columns={\n",
    "        \"Team\": \"home_team\",\n",
    "        \"ladder_position\": \"home_position\",\n",
    "        \"premiership_points\": \"home_points\",\n",
    "        \"percentage\": \"home_percentage\",\n",
    "        \"Played\": \"home_played\"\n",
    "    }),\n",
    "    how=\"left\",\n",
    "    on=[\"Round\", \"home_team\"]\n",
    ")\n",
    "df_model = pd.merge(\n",
    "    df_model,\n",
    "    ladder_df.rename(columns={\n",
    "        \"Team\": \"away_team\",\n",
    "        \"ladder_position\": \"away_position\",\n",
    "        \"premiership_points\": \"away_points\",\n",
    "        \"percentage\": \"away_percentage\",\n",
    "        \"Played\": \"away_played\"\n",
    "    }),\n",
    "    how=\"left\",\n",
    "    on=[\"Round\", \"away_team\"]\n",
    ")\n"
   ]
  },
  {
   "cell_type": "code",
   "execution_count": null,
   "id": "b73e240b",
   "metadata": {},
   "outputs": [],
   "source": [
    "df_model[[\n",
    "    \"Round\", \"home_team\", \"home_position\", \"away_team\", \"away_position\",\n",
    "    \"home_points\", \"away_points\", \"home_percentage\", \"away_percentage\"\n",
    "]].sample(5)\n",
    "\n"
   ]
  },
  {
   "cell_type": "code",
   "execution_count": null,
   "id": "e892e65f",
   "metadata": {},
   "outputs": [],
   "source": [
    "df_model[\"position_diff\"] = df_model[\"home_position\"] - df_model[\"away_position\"] \n",
    "df_model[\"percentage_diff\"] = df_model[\"home_percentage\"] - df_model[\"away_percentage\"]\n",
    "df_model[\"points_diff\"] = df_model[\"home_points\"] - df_model[\"away_points\"]\n",
    "df_model = df_model[df_model[\"Round\"] >= 3]\n"
   ]
  },
  {
   "cell_type": "code",
   "execution_count": null,
   "id": "8ecd6412",
   "metadata": {},
   "outputs": [],
   "source": [
    "df_model = df_model.dropna(subset=[\"home_position\", \"away_position\"])"
   ]
  },
  {
   "cell_type": "code",
   "execution_count": null,
   "id": "7c3f7c83",
   "metadata": {},
   "outputs": [],
   "source": [
    "X = df_model[[\n",
    "    \"home_team\", \"away_team\", \"Venue\", \"Crowd\",\n",
    "    \"position_diff\", \"percentage_diff\",\n",
    "    \"points_diff\"\n",
    "]]\n"
   ]
  },
  {
   "cell_type": "code",
   "execution_count": null,
   "id": "5c769994",
   "metadata": {},
   "outputs": [],
   "source": [
    "y= df_model[\"home_win\"]"
   ]
  },
  {
   "cell_type": "code",
   "execution_count": null,
   "id": "7a41778d",
   "metadata": {},
   "outputs": [],
   "source": [
    "X = X.dropna()\n",
    "y = y[X.index]\n"
   ]
  },
  {
   "cell_type": "code",
   "execution_count": null,
   "id": "a02d8a06",
   "metadata": {},
   "outputs": [],
   "source": [
    "from sklearn.preprocessing import OneHotEncoder\n",
    "from sklearn.compose import ColumnTransformer\n",
    "from sklearn.pipeline import make_pipeline\n",
    "from sklearn.ensemble import RandomForestClassifier\n",
    "from sklearn.model_selection import train_test_split\n",
    "from sklearn.metrics import accuracy_score\n",
    "\n",
    "# Split\n",
    "X_train, X_test, y_train, y_test = train_test_split(X, y, test_size=0.2, random_state=42)\n",
    "\n",
    "# Define column transformer\n",
    "categorical_cols = [\"home_team\", \"away_team\", \"Venue\"]\n",
    "preprocessor = ColumnTransformer([\n",
    "    (\"cat\", OneHotEncoder(handle_unknown='ignore'), categorical_cols)\n",
    "], remainder=\"passthrough\")\n"
   ]
  },
  {
   "cell_type": "code",
   "execution_count": null,
   "id": "6bd3e341",
   "metadata": {},
   "outputs": [],
   "source": [
    "print(X_train.shape)\n"
   ]
  },
  {
   "cell_type": "code",
   "execution_count": null,
   "id": "277057fd",
   "metadata": {},
   "outputs": [],
   "source": [
    "# Pipeline with Random Forest\n",
    "model = make_pipeline(preprocessor, RandomForestClassifier(random_state=42))\n",
    "model.fit(X_train, y_train)"
   ]
  },
  {
   "cell_type": "code",
   "execution_count": null,
   "id": "214c9155",
   "metadata": {},
   "outputs": [],
   "source": [
    "y_pred = model.predict(X_test)\n",
    "acc = accuracy_score(y_test, y_pred)\n",
    "print(f\"Accuracy: {acc:.2f}\")"
   ]
  },
  {
   "cell_type": "code",
   "execution_count": null,
   "id": "0213eae5",
   "metadata": {},
   "outputs": [],
   "source": [
    "# Get feature names after one-hot encoding\n",
    "encoded_feature_names = model.named_steps[\"columntransformer\"].get_feature_names_out()"
   ]
  },
  {
   "cell_type": "code",
   "execution_count": null,
   "id": "75e33c84",
   "metadata": {},
   "outputs": [],
   "source": [
    "feature_importance.sort_values(\"importance\", ascending=False)\n"
   ]
  },
  {
   "cell_type": "code",
   "execution_count": null,
   "id": "1febd579",
   "metadata": {},
   "outputs": [],
   "source": [
    "X_ladder = df_model[[\n",
    "    \"position_diff\", \"points_diff\", \"percentage_diff\"\n",
    "]].dropna()\n",
    "\n",
    "y_ladder = df_model.loc[X_ladder.index, \"home_win\"]\n"
   ]
  },
  {
   "cell_type": "code",
   "execution_count": null,
   "id": "4d22cc9d",
   "metadata": {},
   "outputs": [],
   "source": [
    "from sklearn.model_selection import train_test_split\n",
    "\n",
    "X_train, X_test, y_train, y_test = train_test_split(\n",
    "    X_ladder, y_ladder, test_size=0.2, random_state=42\n",
    ")\n"
   ]
  },
  {
   "cell_type": "code",
   "execution_count": null,
   "id": "ef09a1e4",
   "metadata": {},
   "outputs": [],
   "source": [
    "from sklearn.ensemble import RandomForestClassifier\n",
    "from sklearn.metrics import accuracy_score\n",
    "\n",
    "model = RandomForestClassifier(random_state=42)\n",
    "model.fit(X_train, y_train)\n",
    "\n",
    "y_pred = model.predict(X_test)\n",
    "accuracy = accuracy_score(y_test, y_pred)\n",
    "\n",
    "print(f\"Ladder-only model accuracy: {accuracy:.2f}\")\n"
   ]
  },
  {
   "cell_type": "code",
   "execution_count": null,
   "id": "3ab68308",
   "metadata": {},
   "outputs": [],
   "source": [
    "import pandas as pd\n",
    "\n",
    "importance = pd.DataFrame({\n",
    "    \"feature\": X_train.columns,\n",
    "    \"importance\": model.feature_importances_\n",
    "}).sort_values(\"importance\", ascending=False)\n",
    "\n",
    "print(importance)\n"
   ]
  }
 ],
 "metadata": {
  "kernelspec": {
   "display_name": ".venv",
   "language": "python",
   "name": "python3"
  },
  "language_info": {
   "codemirror_mode": {
    "name": "ipython",
    "version": 3
   },
   "file_extension": ".py",
   "mimetype": "text/x-python",
   "name": "python",
   "nbconvert_exporter": "python",
   "pygments_lexer": "ipython3",
   "version": "3.13.5"
  }
 },
 "nbformat": 4,
 "nbformat_minor": 5
}
